{
  "nbformat": 4,
  "nbformat_minor": 0,
  "metadata": {
    "colab": {
      "name": "Eluvio.ipynb",
      "provenance": [],
      "collapsed_sections": []
    },
    "kernelspec": {
      "name": "python3",
      "display_name": "Python 3"
    },
    "language_info": {
      "name": "python"
    }
  },
  "cells": [
    {
      "cell_type": "code",
      "metadata": {
        "id": "MwgKNvkRxkP5"
      },
      "source": [
        "import pandas as pd\n",
        "import numpy as np\n",
        "import itertools\n",
        "import matplotlib.pyplot as plt\n",
        "import nltk\n",
        "from nltk.stem import WordNetLemmatizer \n",
        "from nltk import FreqDist\n",
        "from nltk.corpus import stopwords\n",
        "from nltk import ngrams\n",
        "from sklearn.feature_extraction.text import CountVectorizer"
      ],
      "execution_count": null,
      "outputs": []
    },
    {
      "cell_type": "markdown",
      "metadata": {
        "id": "nGZjLPf71AXG"
      },
      "source": [
        "## Uploading Data and Preprocessing"
      ]
    },
    {
      "cell_type": "code",
      "metadata": {
        "id": "V36RxvNGxnAF"
      },
      "source": [
        "data = pd.read_csv('/content/drive/MyDrive/Eluvio_DS_Challenge.csv')"
      ],
      "execution_count": null,
      "outputs": []
    },
    {
      "cell_type": "code",
      "metadata": {
        "colab": {
          "base_uri": "https://localhost:8080/",
          "height": 359
        },
        "id": "zRYkTb5Uxvf8",
        "outputId": "188a242d-29d2-4530-9731-32e86512337d"
      },
      "source": [
        "data.head(10)"
      ],
      "execution_count": null,
      "outputs": [
        {
          "output_type": "execute_result",
          "data": {
            "text/html": [
              "<div>\n",
              "<style scoped>\n",
              "    .dataframe tbody tr th:only-of-type {\n",
              "        vertical-align: middle;\n",
              "    }\n",
              "\n",
              "    .dataframe tbody tr th {\n",
              "        vertical-align: top;\n",
              "    }\n",
              "\n",
              "    .dataframe thead th {\n",
              "        text-align: right;\n",
              "    }\n",
              "</style>\n",
              "<table border=\"1\" class=\"dataframe\">\n",
              "  <thead>\n",
              "    <tr style=\"text-align: right;\">\n",
              "      <th></th>\n",
              "      <th>time_created</th>\n",
              "      <th>date_created</th>\n",
              "      <th>up_votes</th>\n",
              "      <th>down_votes</th>\n",
              "      <th>title</th>\n",
              "      <th>over_18</th>\n",
              "      <th>author</th>\n",
              "      <th>category</th>\n",
              "    </tr>\n",
              "  </thead>\n",
              "  <tbody>\n",
              "    <tr>\n",
              "      <th>0</th>\n",
              "      <td>1201232046</td>\n",
              "      <td>2008-01-25</td>\n",
              "      <td>3</td>\n",
              "      <td>0</td>\n",
              "      <td>Scores killed in Pakistan clashes</td>\n",
              "      <td>False</td>\n",
              "      <td>polar</td>\n",
              "      <td>worldnews</td>\n",
              "    </tr>\n",
              "    <tr>\n",
              "      <th>1</th>\n",
              "      <td>1201232075</td>\n",
              "      <td>2008-01-25</td>\n",
              "      <td>2</td>\n",
              "      <td>0</td>\n",
              "      <td>Japan resumes refuelling mission</td>\n",
              "      <td>False</td>\n",
              "      <td>polar</td>\n",
              "      <td>worldnews</td>\n",
              "    </tr>\n",
              "    <tr>\n",
              "      <th>2</th>\n",
              "      <td>1201232523</td>\n",
              "      <td>2008-01-25</td>\n",
              "      <td>3</td>\n",
              "      <td>0</td>\n",
              "      <td>US presses Egypt on Gaza border</td>\n",
              "      <td>False</td>\n",
              "      <td>polar</td>\n",
              "      <td>worldnews</td>\n",
              "    </tr>\n",
              "    <tr>\n",
              "      <th>3</th>\n",
              "      <td>1201233290</td>\n",
              "      <td>2008-01-25</td>\n",
              "      <td>1</td>\n",
              "      <td>0</td>\n",
              "      <td>Jump-start economy: Give health care to all</td>\n",
              "      <td>False</td>\n",
              "      <td>fadi420</td>\n",
              "      <td>worldnews</td>\n",
              "    </tr>\n",
              "    <tr>\n",
              "      <th>4</th>\n",
              "      <td>1201274720</td>\n",
              "      <td>2008-01-25</td>\n",
              "      <td>4</td>\n",
              "      <td>0</td>\n",
              "      <td>Council of Europe bashes EU&amp;UN terror blacklist</td>\n",
              "      <td>False</td>\n",
              "      <td>mhermans</td>\n",
              "      <td>worldnews</td>\n",
              "    </tr>\n",
              "    <tr>\n",
              "      <th>5</th>\n",
              "      <td>1201287889</td>\n",
              "      <td>2008-01-25</td>\n",
              "      <td>15</td>\n",
              "      <td>0</td>\n",
              "      <td>Hay presto! Farmer unveils the  illegal  mock-...</td>\n",
              "      <td>False</td>\n",
              "      <td>Armagedonovich</td>\n",
              "      <td>worldnews</td>\n",
              "    </tr>\n",
              "    <tr>\n",
              "      <th>6</th>\n",
              "      <td>1201289438</td>\n",
              "      <td>2008-01-25</td>\n",
              "      <td>5</td>\n",
              "      <td>0</td>\n",
              "      <td>Strikes, Protests and Gridlock at the Poland-U...</td>\n",
              "      <td>False</td>\n",
              "      <td>Clythos</td>\n",
              "      <td>worldnews</td>\n",
              "    </tr>\n",
              "    <tr>\n",
              "      <th>7</th>\n",
              "      <td>1201536662</td>\n",
              "      <td>2008-01-28</td>\n",
              "      <td>0</td>\n",
              "      <td>0</td>\n",
              "      <td>The U.N. Mismanagement Program</td>\n",
              "      <td>False</td>\n",
              "      <td>Moldavite</td>\n",
              "      <td>worldnews</td>\n",
              "    </tr>\n",
              "    <tr>\n",
              "      <th>8</th>\n",
              "      <td>1201558396</td>\n",
              "      <td>2008-01-28</td>\n",
              "      <td>4</td>\n",
              "      <td>0</td>\n",
              "      <td>Nicolas Sarkozy threatens to sue Ryanair</td>\n",
              "      <td>False</td>\n",
              "      <td>Moldavite</td>\n",
              "      <td>worldnews</td>\n",
              "    </tr>\n",
              "    <tr>\n",
              "      <th>9</th>\n",
              "      <td>1201635869</td>\n",
              "      <td>2008-01-29</td>\n",
              "      <td>3</td>\n",
              "      <td>0</td>\n",
              "      <td>US plans for missile shields in Polish town me...</td>\n",
              "      <td>False</td>\n",
              "      <td>JoeyRamone63</td>\n",
              "      <td>worldnews</td>\n",
              "    </tr>\n",
              "  </tbody>\n",
              "</table>\n",
              "</div>"
            ],
            "text/plain": [
              "   time_created date_created  up_votes  ...  over_18          author   category\n",
              "0    1201232046   2008-01-25         3  ...    False           polar  worldnews\n",
              "1    1201232075   2008-01-25         2  ...    False           polar  worldnews\n",
              "2    1201232523   2008-01-25         3  ...    False           polar  worldnews\n",
              "3    1201233290   2008-01-25         1  ...    False         fadi420  worldnews\n",
              "4    1201274720   2008-01-25         4  ...    False        mhermans  worldnews\n",
              "5    1201287889   2008-01-25        15  ...    False  Armagedonovich  worldnews\n",
              "6    1201289438   2008-01-25         5  ...    False         Clythos  worldnews\n",
              "7    1201536662   2008-01-28         0  ...    False       Moldavite  worldnews\n",
              "8    1201558396   2008-01-28         4  ...    False       Moldavite  worldnews\n",
              "9    1201635869   2008-01-29         3  ...    False    JoeyRamone63  worldnews\n",
              "\n",
              "[10 rows x 8 columns]"
            ]
          },
          "metadata": {
            "tags": []
          },
          "execution_count": 3
        }
      ]
    },
    {
      "cell_type": "code",
      "metadata": {
        "colab": {
          "base_uri": "https://localhost:8080/"
        },
        "id": "7Sm-zkrZxwcu",
        "outputId": "224e32cc-bb49-4003-f694-b920bed75cde"
      },
      "source": [
        "print (data.shape)"
      ],
      "execution_count": null,
      "outputs": [
        {
          "output_type": "stream",
          "text": [
            "(509236, 8)\n"
          ],
          "name": "stdout"
        }
      ]
    },
    {
      "cell_type": "code",
      "metadata": {
        "colab": {
          "base_uri": "https://localhost:8080/"
        },
        "id": "3f4dWPkv6wzr",
        "outputId": "583a1aad-9cca-459f-bc44-495663185103"
      },
      "source": [
        "print (data.columns)"
      ],
      "execution_count": null,
      "outputs": [
        {
          "output_type": "stream",
          "text": [
            "Index(['time_created', 'date_created', 'up_votes', 'down_votes', 'title',\n",
            "       'over_18', 'author', 'category'],\n",
            "      dtype='object')\n"
          ],
          "name": "stdout"
        }
      ]
    },
    {
      "cell_type": "code",
      "metadata": {
        "colab": {
          "base_uri": "https://localhost:8080/"
        },
        "id": "hYfYohM_6yak",
        "outputId": "acdc1a3e-90ac-4759-afac-faa7d50a98e6"
      },
      "source": [
        "data.dropna().shape #no missing data"
      ],
      "execution_count": null,
      "outputs": [
        {
          "output_type": "execute_result",
          "data": {
            "text/plain": [
              "(509236, 8)"
            ]
          },
          "metadata": {
            "tags": []
          },
          "execution_count": 6
        }
      ]
    },
    {
      "cell_type": "code",
      "metadata": {
        "colab": {
          "base_uri": "https://localhost:8080/"
        },
        "id": "vo885aui7Aq7",
        "outputId": "2372c474-d08c-45a7-d303-ad8b1daeff3b"
      },
      "source": [
        "text = data['title']\n",
        "print (text[20])"
      ],
      "execution_count": null,
      "outputs": [
        {
          "output_type": "stream",
          "text": [
            "Possible  Guantanamo  on UK soil?  [video]\n"
          ],
          "name": "stdout"
        }
      ]
    },
    {
      "cell_type": "markdown",
      "metadata": {
        "id": "mXTuxck81JKQ"
      },
      "source": [
        "## Sentence Splitting"
      ]
    },
    {
      "cell_type": "code",
      "metadata": {
        "colab": {
          "base_uri": "https://localhost:8080/"
        },
        "id": "1dWIRG_B7Znb",
        "outputId": "a1a3f947-c8cd-449b-a269-82d0d7e98a8f"
      },
      "source": [
        "nltk.download('punkt')\n",
        "\n",
        "# Let's play around with the first document from the list of documents 'text' \n",
        "doc = text[1]\n",
        "# split the document into sentences\n",
        "sents = nltk.sent_tokenize(doc)\n",
        "print ('There are %d sentences in this document ', len(sents))"
      ],
      "execution_count": null,
      "outputs": [
        {
          "output_type": "stream",
          "text": [
            "[nltk_data] Downloading package punkt to /root/nltk_data...\n",
            "[nltk_data]   Unzipping tokenizers/punkt.zip.\n",
            "There are %d sentences in this document  1\n"
          ],
          "name": "stdout"
        }
      ]
    },
    {
      "cell_type": "markdown",
      "metadata": {
        "id": "9TG_AhwQ1Xns"
      },
      "source": [
        "### First tried with one sentence (title)"
      ]
    },
    {
      "cell_type": "code",
      "metadata": {
        "id": "OZUWnbYA7cXL",
        "colab": {
          "base_uri": "https://localhost:8080/"
        },
        "outputId": "4151fadf-a04f-40e4-d4ab-0691fa5d2041"
      },
      "source": [
        "tokens = nltk.word_tokenize(sents[0])\n",
        "tokens"
      ],
      "execution_count": null,
      "outputs": [
        {
          "output_type": "execute_result",
          "data": {
            "text/plain": [
              "['Japan', 'resumes', 'refuelling', 'mission']"
            ]
          },
          "metadata": {
            "tags": []
          },
          "execution_count": 9
        }
      ]
    },
    {
      "cell_type": "code",
      "metadata": {
        "colab": {
          "base_uri": "https://localhost:8080/"
        },
        "id": "uppMPcv13dDP",
        "outputId": "d93f0818-dd65-41b8-d0c2-16bea8d22b15"
      },
      "source": [
        "print ('Sentence BEFORE lowecase all tokens')\n",
        "print (tokens)\n",
        "# Normalize the tokens\n",
        "\n",
        "normalized_tokens = [t.lower() for t in tokens]\n",
        "print ('\\nSentence AFTER lowecase all tokens')\n",
        "print ( normalized_tokens)\n",
        "\n",
        "print ('\\n notice the words The, Vancomycin, Botulinum')"
      ],
      "execution_count": null,
      "outputs": [
        {
          "output_type": "stream",
          "text": [
            "Sentence BEFORE lowecase all tokens\n",
            "['Japan', 'resumes', 'refuelling', 'mission']\n",
            "\n",
            "Sentence AFTER lowecase all tokens\n",
            "['japan', 'resumes', 'refuelling', 'mission']\n",
            "\n",
            " notice the words The, Vancomycin, Botulinum\n"
          ],
          "name": "stdout"
        }
      ]
    },
    {
      "cell_type": "code",
      "metadata": {
        "colab": {
          "base_uri": "https://localhost:8080/"
        },
        "id": "xwVeuLPr4AM8",
        "outputId": "64af32fd-9edc-4a19-a34c-f7465401d872"
      },
      "source": [
        "print ('normaized tokens BEFORE stemming ')\n",
        "print (normalized_tokens)\n",
        "print ('\\nnormaized tokens AFTER stemming ')\n",
        "print ([nltk.PorterStemmer().stem(t) for t in normalized_tokens])\n",
        "#chopped ~ed, ~e"
      ],
      "execution_count": null,
      "outputs": [
        {
          "output_type": "stream",
          "text": [
            "normaized tokens BEFORE stemming \n",
            "['japan', 'resumes', 'refuelling', 'mission']\n",
            "\n",
            "normaized tokens AFTER stemming \n",
            "['japan', 'resum', 'refuel', 'mission']\n"
          ],
          "name": "stdout"
        }
      ]
    },
    {
      "cell_type": "code",
      "metadata": {
        "colab": {
          "base_uri": "https://localhost:8080/"
        },
        "id": "yAkTy3iY4C4_",
        "outputId": "d498efdc-0e5b-4640-8501-cb7273cde0e8"
      },
      "source": [
        "nltk.download('wordnet')"
      ],
      "execution_count": null,
      "outputs": [
        {
          "output_type": "stream",
          "text": [
            "[nltk_data] Downloading package wordnet to /root/nltk_data...\n",
            "[nltk_data]   Unzipping corpora/wordnet.zip.\n"
          ],
          "name": "stdout"
        },
        {
          "output_type": "execute_result",
          "data": {
            "text/plain": [
              "True"
            ]
          },
          "metadata": {
            "tags": []
          },
          "execution_count": 12
        }
      ]
    },
    {
      "cell_type": "markdown",
      "metadata": {
        "id": "Sn3M3SmS1iW_"
      },
      "source": [
        "#### Lemmatization is an option if needed"
      ]
    },
    {
      "cell_type": "code",
      "metadata": {
        "colab": {
          "base_uri": "https://localhost:8080/"
        },
        "id": "8n6Mz4iZ4GGE",
        "outputId": "5b9c6667-91f4-48d2-ced3-bf837970a2a3"
      },
      "source": [
        "lemmatizer = WordNetLemmatizer() \n",
        "\n",
        "print ('normaized tokens BEFORE lemmatization ')\n",
        "print (normalized_tokens)\n",
        "print ('\\nnormaized tokens AFTER lemmatization')\n",
        "print ([WordNetLemmatizer().lemmatize(t,pos='v') for t in normalized_tokens])\n",
        "\n",
        "print ('\\n The words effected are: resume, refuel')"
      ],
      "execution_count": null,
      "outputs": [
        {
          "output_type": "stream",
          "text": [
            "normaized tokens BEFORE lemmatization \n",
            "['japan', 'resumes', 'refuelling', 'mission']\n",
            "\n",
            "normaized tokens AFTER lemmatization\n",
            "['japan', 'resume', 'refuel', 'mission']\n",
            "\n",
            " The words effected are: resume, refuel\n"
          ],
          "name": "stdout"
        }
      ]
    },
    {
      "cell_type": "markdown",
      "metadata": {
        "id": "SgzR2Caj1u0U"
      },
      "source": [
        "### Tokenization of the entire data"
      ]
    },
    {
      "cell_type": "code",
      "metadata": {
        "id": "my5Ts04O4H_h"
      },
      "source": [
        "tokens_of_Documents = [nltk.word_tokenize(doc) for doc in text]"
      ],
      "execution_count": null,
      "outputs": []
    },
    {
      "cell_type": "code",
      "metadata": {
        "colab": {
          "base_uri": "https://localhost:8080/",
          "height": 419
        },
        "id": "n8qdyecapBbW",
        "outputId": "89c3153d-96d0-499c-b733-2b29a1960233"
      },
      "source": [
        "data"
      ],
      "execution_count": null,
      "outputs": [
        {
          "output_type": "execute_result",
          "data": {
            "text/html": [
              "<div>\n",
              "<style scoped>\n",
              "    .dataframe tbody tr th:only-of-type {\n",
              "        vertical-align: middle;\n",
              "    }\n",
              "\n",
              "    .dataframe tbody tr th {\n",
              "        vertical-align: top;\n",
              "    }\n",
              "\n",
              "    .dataframe thead th {\n",
              "        text-align: right;\n",
              "    }\n",
              "</style>\n",
              "<table border=\"1\" class=\"dataframe\">\n",
              "  <thead>\n",
              "    <tr style=\"text-align: right;\">\n",
              "      <th></th>\n",
              "      <th>time_created</th>\n",
              "      <th>date_created</th>\n",
              "      <th>up_votes</th>\n",
              "      <th>down_votes</th>\n",
              "      <th>title</th>\n",
              "      <th>over_18</th>\n",
              "      <th>author</th>\n",
              "      <th>category</th>\n",
              "    </tr>\n",
              "  </thead>\n",
              "  <tbody>\n",
              "    <tr>\n",
              "      <th>0</th>\n",
              "      <td>1201232046</td>\n",
              "      <td>2008-01-25</td>\n",
              "      <td>3</td>\n",
              "      <td>0</td>\n",
              "      <td>Scores killed in Pakistan clashes</td>\n",
              "      <td>False</td>\n",
              "      <td>polar</td>\n",
              "      <td>worldnews</td>\n",
              "    </tr>\n",
              "    <tr>\n",
              "      <th>1</th>\n",
              "      <td>1201232075</td>\n",
              "      <td>2008-01-25</td>\n",
              "      <td>2</td>\n",
              "      <td>0</td>\n",
              "      <td>Japan resumes refuelling mission</td>\n",
              "      <td>False</td>\n",
              "      <td>polar</td>\n",
              "      <td>worldnews</td>\n",
              "    </tr>\n",
              "    <tr>\n",
              "      <th>2</th>\n",
              "      <td>1201232523</td>\n",
              "      <td>2008-01-25</td>\n",
              "      <td>3</td>\n",
              "      <td>0</td>\n",
              "      <td>US presses Egypt on Gaza border</td>\n",
              "      <td>False</td>\n",
              "      <td>polar</td>\n",
              "      <td>worldnews</td>\n",
              "    </tr>\n",
              "    <tr>\n",
              "      <th>3</th>\n",
              "      <td>1201233290</td>\n",
              "      <td>2008-01-25</td>\n",
              "      <td>1</td>\n",
              "      <td>0</td>\n",
              "      <td>Jump-start economy: Give health care to all</td>\n",
              "      <td>False</td>\n",
              "      <td>fadi420</td>\n",
              "      <td>worldnews</td>\n",
              "    </tr>\n",
              "    <tr>\n",
              "      <th>4</th>\n",
              "      <td>1201274720</td>\n",
              "      <td>2008-01-25</td>\n",
              "      <td>4</td>\n",
              "      <td>0</td>\n",
              "      <td>Council of Europe bashes EU&amp;UN terror blacklist</td>\n",
              "      <td>False</td>\n",
              "      <td>mhermans</td>\n",
              "      <td>worldnews</td>\n",
              "    </tr>\n",
              "    <tr>\n",
              "      <th>...</th>\n",
              "      <td>...</td>\n",
              "      <td>...</td>\n",
              "      <td>...</td>\n",
              "      <td>...</td>\n",
              "      <td>...</td>\n",
              "      <td>...</td>\n",
              "      <td>...</td>\n",
              "      <td>...</td>\n",
              "    </tr>\n",
              "    <tr>\n",
              "      <th>509231</th>\n",
              "      <td>1479816764</td>\n",
              "      <td>2016-11-22</td>\n",
              "      <td>5</td>\n",
              "      <td>0</td>\n",
              "      <td>Heil Trump : Donald Trump s  alt-right  white...</td>\n",
              "      <td>False</td>\n",
              "      <td>nonamenoglory</td>\n",
              "      <td>worldnews</td>\n",
              "    </tr>\n",
              "    <tr>\n",
              "      <th>509232</th>\n",
              "      <td>1479816772</td>\n",
              "      <td>2016-11-22</td>\n",
              "      <td>1</td>\n",
              "      <td>0</td>\n",
              "      <td>There are people speculating that this could b...</td>\n",
              "      <td>False</td>\n",
              "      <td>SummerRay</td>\n",
              "      <td>worldnews</td>\n",
              "    </tr>\n",
              "    <tr>\n",
              "      <th>509233</th>\n",
              "      <td>1479817056</td>\n",
              "      <td>2016-11-22</td>\n",
              "      <td>1</td>\n",
              "      <td>0</td>\n",
              "      <td>Professor receives Arab Researchers Award</td>\n",
              "      <td>False</td>\n",
              "      <td>AUSharjah</td>\n",
              "      <td>worldnews</td>\n",
              "    </tr>\n",
              "    <tr>\n",
              "      <th>509234</th>\n",
              "      <td>1479817157</td>\n",
              "      <td>2016-11-22</td>\n",
              "      <td>1</td>\n",
              "      <td>0</td>\n",
              "      <td>Nigel Farage attacks response to Trump ambassa...</td>\n",
              "      <td>False</td>\n",
              "      <td>smilyflower</td>\n",
              "      <td>worldnews</td>\n",
              "    </tr>\n",
              "    <tr>\n",
              "      <th>509235</th>\n",
              "      <td>1479817346</td>\n",
              "      <td>2016-11-22</td>\n",
              "      <td>1</td>\n",
              "      <td>0</td>\n",
              "      <td>Palestinian wielding knife shot dead in West B...</td>\n",
              "      <td>False</td>\n",
              "      <td>superislam</td>\n",
              "      <td>worldnews</td>\n",
              "    </tr>\n",
              "  </tbody>\n",
              "</table>\n",
              "<p>509236 rows × 8 columns</p>\n",
              "</div>"
            ],
            "text/plain": [
              "        time_created date_created  up_votes  ...  over_18         author   category\n",
              "0         1201232046   2008-01-25         3  ...    False          polar  worldnews\n",
              "1         1201232075   2008-01-25         2  ...    False          polar  worldnews\n",
              "2         1201232523   2008-01-25         3  ...    False          polar  worldnews\n",
              "3         1201233290   2008-01-25         1  ...    False        fadi420  worldnews\n",
              "4         1201274720   2008-01-25         4  ...    False       mhermans  worldnews\n",
              "...              ...          ...       ...  ...      ...            ...        ...\n",
              "509231    1479816764   2016-11-22         5  ...    False  nonamenoglory  worldnews\n",
              "509232    1479816772   2016-11-22         1  ...    False      SummerRay  worldnews\n",
              "509233    1479817056   2016-11-22         1  ...    False      AUSharjah  worldnews\n",
              "509234    1479817157   2016-11-22         1  ...    False    smilyflower  worldnews\n",
              "509235    1479817346   2016-11-22         1  ...    False     superislam  worldnews\n",
              "\n",
              "[509236 rows x 8 columns]"
            ]
          },
          "metadata": {
            "tags": []
          },
          "execution_count": 18
        }
      ]
    },
    {
      "cell_type": "code",
      "metadata": {
        "colab": {
          "base_uri": "https://localhost:8080/"
        },
        "id": "hGns28y97glF",
        "outputId": "396ed16f-aba0-4d74-c7c5-025d815607e1"
      },
      "source": [
        "print (\"The text comprises %d documents.\" % len(tokens_of_Documents))\n",
        "print ('\\n Here are the first 3 documents')\n",
        "for i in range (0,3):\n",
        "    print (tokens_of_Documents[i])"
      ],
      "execution_count": null,
      "outputs": [
        {
          "output_type": "stream",
          "text": [
            "The text comprises 509236 documents.\n",
            "\n",
            " Here are the first 3 documents\n",
            "['Scores', 'killed', 'in', 'Pakistan', 'clashes']\n",
            "['Japan', 'resumes', 'refuelling', 'mission']\n",
            "['US', 'presses', 'Egypt', 'on', 'Gaza', 'border']\n"
          ],
          "name": "stdout"
        }
      ]
    },
    {
      "cell_type": "code",
      "metadata": {
        "colab": {
          "base_uri": "https://localhost:8080/"
        },
        "id": "PLHQeIcw7jtj",
        "outputId": "6700c97c-e6e1-43a3-b742-758429259390"
      },
      "source": [
        "#combine all the tokens in all documents into a list of tokens\n",
        "tokens_all = list(itertools.chain.from_iterable(tokens_of_Documents))\n",
        "print (len(tokens_all))"
      ],
      "execution_count": null,
      "outputs": [
        {
          "output_type": "stream",
          "text": [
            "7913476\n"
          ],
          "name": "stdout"
        }
      ]
    },
    {
      "cell_type": "code",
      "metadata": {
        "id": "4uhIc-d77-xs"
      },
      "source": [
        "# convert list of tokens to nltk text object\n",
        "final_tokens = nltk.Text(t.lower() for t in tokens_all)"
      ],
      "execution_count": null,
      "outputs": []
    },
    {
      "cell_type": "code",
      "metadata": {
        "colab": {
          "base_uri": "https://localhost:8080/"
        },
        "id": "BSLhAqQn8GoV",
        "outputId": "f8c75f83-a898-4632-dc90-ee379b6d4684"
      },
      "source": [
        "print (\"The text comprises %d normalized tokens.\" % len(final_tokens))\n",
        "print (\"The first few are\", final_tokens[0:10])"
      ],
      "execution_count": null,
      "outputs": [
        {
          "output_type": "stream",
          "text": [
            "The text comprises 7913476 normalized tokens.\n",
            "The first few are ['scores', 'killed', 'in', 'pakistan', 'clashes', 'japan', 'resumes', 'refuelling', 'mission', 'us']\n"
          ],
          "name": "stdout"
        }
      ]
    },
    {
      "cell_type": "code",
      "metadata": {
        "id": "vzq7ih_f9FA8"
      },
      "source": [
        "fdist = FreqDist(final_tokens)"
      ],
      "execution_count": null,
      "outputs": []
    },
    {
      "cell_type": "code",
      "metadata": {
        "colab": {
          "base_uri": "https://localhost:8080/"
        },
        "id": "C7VJ1p1I9AEz",
        "outputId": "b561eef3-bbd7-4e3f-f6dc-904ae215ffa3"
      },
      "source": [
        "fdist.most_common(10)"
      ],
      "execution_count": null,
      "outputs": [
        {
          "output_type": "execute_result",
          "data": {
            "text/plain": [
              "[('the', 211961),\n",
              " ('to', 211658),\n",
              " ('in', 207745),\n",
              " (',', 182435),\n",
              " ('of', 174341),\n",
              " ('.', 128392),\n",
              " ('a', 107655),\n",
              " ('s', 103561),\n",
              " (':', 86874),\n",
              " ('and', 86611)]"
            ]
          },
          "metadata": {
            "tags": []
          },
          "execution_count": 68
        }
      ]
    },
    {
      "cell_type": "code",
      "metadata": {
        "colab": {
          "base_uri": "https://localhost:8080/"
        },
        "id": "BKYYlLvCBvAU",
        "outputId": "af7a8970-49d8-42c4-c6c9-d0590c7ff7fd"
      },
      "source": [
        "nltk.download('stopwords')\n",
        "stop_words = set(stopwords.words('english'))"
      ],
      "execution_count": null,
      "outputs": [
        {
          "output_type": "stream",
          "text": [
            "[nltk_data] Downloading package stopwords to /root/nltk_data...\n",
            "[nltk_data]   Unzipping corpora/stopwords.zip.\n"
          ],
          "name": "stdout"
        }
      ]
    },
    {
      "cell_type": "markdown",
      "metadata": {
        "id": "1enCsPcV10-L"
      },
      "source": [
        "### Finding words associated with high up_votes"
      ]
    },
    {
      "cell_type": "code",
      "metadata": {
        "id": "_8NjWRqCunWM"
      },
      "source": [
        "# created a dictionary of {word : total up_votes} to see what words are related to higher up_votes; could be used for future reference when choosing topic/ title\n",
        "vote = {}\n",
        "for i in range(len(tokens_of_Documents)):\n",
        "  for j in tokens_of_Documents[i]:\n",
        "    j = j.lower()\n",
        "    up = data.iloc[i,2]\n",
        "    if j not in stop_words:\n",
        "      if j not in vote:\n",
        "        vote[j] = up\n",
        "      else:\n",
        "        vote[j] += up"
      ],
      "execution_count": null,
      "outputs": []
    },
    {
      "cell_type": "code",
      "metadata": {
        "colab": {
          "base_uri": "https://localhost:8080/"
        },
        "id": "2DDjIFPmspIF",
        "outputId": "39d255fb-56f6-47b1-d759-bfa2b29c21da"
      },
      "source": [
        "sorted(vote, key = vote.get, reverse=True)[:30]"
      ],
      "execution_count": null,
      "outputs": [
        {
          "output_type": "execute_result",
          "data": {
            "text/plain": [
              "[',',\n",
              " '.',\n",
              " ':',\n",
              " '’',\n",
              " '-',\n",
              " 'says',\n",
              " 'us',\n",
              " 'world',\n",
              " 'new',\n",
              " 'government',\n",
              " 'people',\n",
              " '$',\n",
              " 'russia',\n",
              " 'police',\n",
              " 'china',\n",
              " 'years',\n",
              " 'isis',\n",
              " 'first',\n",
              " 'president',\n",
              " '‘',\n",
              " 'north',\n",
              " 'u.s.',\n",
              " 'uk',\n",
              " 'korea',\n",
              " 'said',\n",
              " '”',\n",
              " '“',\n",
              " 'one',\n",
              " 'russian',\n",
              " 'state']"
            ]
          },
          "metadata": {
            "tags": []
          },
          "execution_count": 89
        }
      ]
    },
    {
      "cell_type": "markdown",
      "metadata": {
        "id": "WWNcD4TIz3uA"
      },
      "source": [
        "Above is the list of words with the total highest up_votes; other than the punctuation marks, it seems that these words migh be able to bring high number of up_votes: 'us', 'world', 'new', 'government', 'people', '$', 'russia', 'police', 'china', 'years', 'isis', 'first', 'president', and etc. This can also imply that people are interested in these topics and that pay a lot of attention to related issues.\n",
        "\n",
        "I could have added the up_votes and minused the down_votes but I just decided to only count up_votes. We could also find what words are associated with high down_votes in a very similar way.\n",
        "\n",
        "Depending on the context, high down_votes could mean many things. Maybe people down_vote for the poor quality of the content, but it could also be that the topic itself is sad or tragic that people down_vote to show their feelings toward it. (people could also up_vote for the sad/ tragic contents as well)\n",
        "\n",
        "Therefore, I could also add up_vote and down_vote to show which words are very controversial/ popular (bring a lot of people's attention)."
      ]
    },
    {
      "cell_type": "code",
      "metadata": {
        "colab": {
          "base_uri": "https://localhost:8080/"
        },
        "id": "EPQ2WjltByuU",
        "outputId": "ac7ecb76-e323-4cc9-eab5-e8a6936c5649"
      },
      "source": [
        "tokens_withno_stopwords = []\n",
        "for w in final_tokens: \n",
        "    if w not in stop_words: \n",
        "      if w not in [',','.',':','-',\"'\",\"(\",\")\",\"?\",\"!\"]:\n",
        "        tokens_withno_stopwords.append(w)   \n",
        "\n",
        "print (\"The number of tokens is %d ; BEFORE stop words removal\" % len(final_tokens))            \n",
        "print (\"The number of tokens is %d ; AFTER stop words removal\" % len(tokens_withno_stopwords))"
      ],
      "execution_count": null,
      "outputs": [
        {
          "output_type": "stream",
          "text": [
            "The number of tokens is 7913476 ; BEFORE stop words removal\n",
            "The number of tokens is 5261300 ; AFTER stop words removal\n"
          ],
          "name": "stdout"
        }
      ]
    },
    {
      "cell_type": "markdown",
      "metadata": {
        "id": "536VOoEs1_E3"
      },
      "source": [
        "#### Finding most commonly used words"
      ]
    },
    {
      "cell_type": "code",
      "metadata": {
        "colab": {
          "base_uri": "https://localhost:8080/"
        },
        "id": "Juwk8JTvB3gd",
        "outputId": "f46ba4fc-32dd-41a1-b392-db55243a1884"
      },
      "source": [
        "fdist = FreqDist(tokens_withno_stopwords)\n",
        "fdist.most_common(10)"
      ],
      "execution_count": null,
      "outputs": [
        {
          "output_type": "execute_result",
          "data": {
            "text/plain": [
              "[('’', 39471),\n",
              " ('china', 25758),\n",
              " ('says', 25415),\n",
              " ('us', 23540),\n",
              " ('new', 23326),\n",
              " ('syria', 18783),\n",
              " ('russia', 18112),\n",
              " ('world', 17857),\n",
              " ('police', 16583),\n",
              " ('iran', 15473)]"
            ]
          },
          "metadata": {
            "tags": []
          },
          "execution_count": 122
        }
      ]
    },
    {
      "cell_type": "code",
      "metadata": {
        "id": "CnbO3EYU9MeB",
        "colab": {
          "base_uri": "https://localhost:8080/",
          "height": 330
        },
        "outputId": "23accc57-dd67-4142-8a35-9ef6461c5177"
      },
      "source": [
        "fdist.plot(30) "
      ],
      "execution_count": null,
      "outputs": [
        {
          "output_type": "display_data",
          "data": {
            "image/png": "[encoded data removed]",
            "text/plain": [
              "<Figure size 432x288 with 1 Axes>"
            ]
          },
          "metadata": {
            "tags": [],
            "needs_background": "light"
          }
        }
      ]
    },
    {
      "cell_type": "markdown",
      "metadata": {
        "id": "t-6gSTBGP08g"
      },
      "source": [
        "As I plot the frequency distribution of words from the data, we can tell that especially country names appear common in the titles. This is not surprising as the category is worldnews so it makes sense that the titles mention country names often."
      ]
    },
    {
      "cell_type": "code",
      "metadata": {
        "colab": {
          "base_uri": "https://localhost:8080/"
        },
        "id": "J1XosEUmCxVN",
        "outputId": "c96d60de-03cd-48e0-892c-7e8e5580db0d"
      },
      "source": [
        "# define the model by setting the parameters to desired values\n",
        "tf_vectorizer = CountVectorizer(max_features=30,\n",
        "                                ngram_range=(1, 2), \n",
        "                                stop_words='english' )\n",
        "\n",
        "# apply the vectorizer to the \"text\" data\n",
        "tf = tf_vectorizer.fit_transform(text)\n",
        "#print the features\n",
        "tf_vectorizer.get_feature_names()"
      ],
      "execution_count": null,
      "outputs": [
        {
          "output_type": "execute_result",
          "data": {
            "text/plain": [
              "['000',\n",
              " 'attack',\n",
              " 'china',\n",
              " 'government',\n",
              " 'india',\n",
              " 'iran',\n",
              " 'israel',\n",
              " 'killed',\n",
              " 'korea',\n",
              " 'military',\n",
              " 'minister',\n",
              " 'new',\n",
              " 'news',\n",
              " 'north',\n",
              " 'people',\n",
              " 'police',\n",
              " 'president',\n",
              " 'russia',\n",
              " 'russian',\n",
              " 'said',\n",
              " 'says',\n",
              " 'south',\n",
              " 'state',\n",
              " 'syria',\n",
              " 'syrian',\n",
              " 'uk',\n",
              " 'ukraine',\n",
              " 'war',\n",
              " 'world',\n",
              " 'year']"
            ]
          },
          "metadata": {
            "tags": []
          },
          "execution_count": 131
        }
      ]
    },
    {
      "cell_type": "code",
      "metadata": {
        "colab": {
          "base_uri": "https://localhost:8080/",
          "height": 419
        },
        "id": "wkXKzsT9FoR6",
        "outputId": "5d0478d7-7c53-4ba2-9ba8-eab48c3aaa71"
      },
      "source": [
        "#transform the vectorizeroutput into a dense representation\n",
        "pd.DataFrame(tf.todense(),columns=tf_vectorizer.get_feature_names())"
      ],
      "execution_count": null,
      "outputs": [
        {
          "output_type": "execute_result",
          "data": {
            "text/html": [
              "<div>\n",
              "<style scoped>\n",
              "    .dataframe tbody tr th:only-of-type {\n",
              "        vertical-align: middle;\n",
              "    }\n",
              "\n",
              "    .dataframe tbody tr th {\n",
              "        vertical-align: top;\n",
              "    }\n",
              "\n",
              "    .dataframe thead th {\n",
              "        text-align: right;\n",
              "    }\n",
              "</style>\n",
              "<table border=\"1\" class=\"dataframe\">\n",
              "  <thead>\n",
              "    <tr style=\"text-align: right;\">\n",
              "      <th></th>\n",
              "      <th>000</th>\n",
              "      <th>attack</th>\n",
              "      <th>china</th>\n",
              "      <th>government</th>\n",
              "      <th>india</th>\n",
              "      <th>iran</th>\n",
              "      <th>israel</th>\n",
              "      <th>killed</th>\n",
              "      <th>korea</th>\n",
              "      <th>military</th>\n",
              "      <th>minister</th>\n",
              "      <th>new</th>\n",
              "      <th>news</th>\n",
              "      <th>north</th>\n",
              "      <th>people</th>\n",
              "      <th>police</th>\n",
              "      <th>president</th>\n",
              "      <th>russia</th>\n",
              "      <th>russian</th>\n",
              "      <th>said</th>\n",
              "      <th>says</th>\n",
              "      <th>south</th>\n",
              "      <th>state</th>\n",
              "      <th>syria</th>\n",
              "      <th>syrian</th>\n",
              "      <th>uk</th>\n",
              "      <th>ukraine</th>\n",
              "      <th>war</th>\n",
              "      <th>world</th>\n",
              "      <th>year</th>\n",
              "    </tr>\n",
              "  </thead>\n",
              "  <tbody>\n",
              "    <tr>\n",
              "      <th>0</th>\n",
              "      <td>0</td>\n",
              "      <td>0</td>\n",
              "      <td>0</td>\n",
              "      <td>0</td>\n",
              "      <td>0</td>\n",
              "      <td>0</td>\n",
              "      <td>0</td>\n",
              "      <td>1</td>\n",
              "      <td>0</td>\n",
              "      <td>0</td>\n",
              "      <td>0</td>\n",
              "      <td>0</td>\n",
              "      <td>0</td>\n",
              "      <td>0</td>\n",
              "      <td>0</td>\n",
              "      <td>0</td>\n",
              "      <td>0</td>\n",
              "      <td>0</td>\n",
              "      <td>0</td>\n",
              "      <td>0</td>\n",
              "      <td>0</td>\n",
              "      <td>0</td>\n",
              "      <td>0</td>\n",
              "      <td>0</td>\n",
              "      <td>0</td>\n",
              "      <td>0</td>\n",
              "      <td>0</td>\n",
              "      <td>0</td>\n",
              "      <td>0</td>\n",
              "      <td>0</td>\n",
              "    </tr>\n",
              "    <tr>\n",
              "      <th>1</th>\n",
              "      <td>0</td>\n",
              "      <td>0</td>\n",
              "      <td>0</td>\n",
              "      <td>0</td>\n",
              "      <td>0</td>\n",
              "      <td>0</td>\n",
              "      <td>0</td>\n",
              "      <td>0</td>\n",
              "      <td>0</td>\n",
              "      <td>0</td>\n",
              "      <td>0</td>\n",
              "      <td>0</td>\n",
              "      <td>0</td>\n",
              "      <td>0</td>\n",
              "      <td>0</td>\n",
              "      <td>0</td>\n",
              "      <td>0</td>\n",
              "      <td>0</td>\n",
              "      <td>0</td>\n",
              "      <td>0</td>\n",
              "      <td>0</td>\n",
              "      <td>0</td>\n",
              "      <td>0</td>\n",
              "      <td>0</td>\n",
              "      <td>0</td>\n",
              "      <td>0</td>\n",
              "      <td>0</td>\n",
              "      <td>0</td>\n",
              "      <td>0</td>\n",
              "      <td>0</td>\n",
              "    </tr>\n",
              "    <tr>\n",
              "      <th>2</th>\n",
              "      <td>0</td>\n",
              "      <td>0</td>\n",
              "      <td>0</td>\n",
              "      <td>0</td>\n",
              "      <td>0</td>\n",
              "      <td>0</td>\n",
              "      <td>0</td>\n",
              "      <td>0</td>\n",
              "      <td>0</td>\n",
              "      <td>0</td>\n",
              "      <td>0</td>\n",
              "      <td>0</td>\n",
              "      <td>0</td>\n",
              "      <td>0</td>\n",
              "      <td>0</td>\n",
              "      <td>0</td>\n",
              "      <td>0</td>\n",
              "      <td>0</td>\n",
              "      <td>0</td>\n",
              "      <td>0</td>\n",
              "      <td>0</td>\n",
              "      <td>0</td>\n",
              "      <td>0</td>\n",
              "      <td>0</td>\n",
              "      <td>0</td>\n",
              "      <td>0</td>\n",
              "      <td>0</td>\n",
              "      <td>0</td>\n",
              "      <td>0</td>\n",
              "      <td>0</td>\n",
              "    </tr>\n",
              "    <tr>\n",
              "      <th>3</th>\n",
              "      <td>0</td>\n",
              "      <td>0</td>\n",
              "      <td>0</td>\n",
              "      <td>0</td>\n",
              "      <td>0</td>\n",
              "      <td>0</td>\n",
              "      <td>0</td>\n",
              "      <td>0</td>\n",
              "      <td>0</td>\n",
              "      <td>0</td>\n",
              "      <td>0</td>\n",
              "      <td>0</td>\n",
              "      <td>0</td>\n",
              "      <td>0</td>\n",
              "      <td>0</td>\n",
              "      <td>0</td>\n",
              "      <td>0</td>\n",
              "      <td>0</td>\n",
              "      <td>0</td>\n",
              "      <td>0</td>\n",
              "      <td>0</td>\n",
              "      <td>0</td>\n",
              "      <td>0</td>\n",
              "      <td>0</td>\n",
              "      <td>0</td>\n",
              "      <td>0</td>\n",
              "      <td>0</td>\n",
              "      <td>0</td>\n",
              "      <td>0</td>\n",
              "      <td>0</td>\n",
              "    </tr>\n",
              "    <tr>\n",
              "      <th>4</th>\n",
              "      <td>0</td>\n",
              "      <td>0</td>\n",
              "      <td>0</td>\n",
              "      <td>0</td>\n",
              "      <td>0</td>\n",
              "      <td>0</td>\n",
              "      <td>0</td>\n",
              "      <td>0</td>\n",
              "      <td>0</td>\n",
              "      <td>0</td>\n",
              "      <td>0</td>\n",
              "      <td>0</td>\n",
              "      <td>0</td>\n",
              "      <td>0</td>\n",
              "      <td>0</td>\n",
              "      <td>0</td>\n",
              "      <td>0</td>\n",
              "      <td>0</td>\n",
              "      <td>0</td>\n",
              "      <td>0</td>\n",
              "      <td>0</td>\n",
              "      <td>0</td>\n",
              "      <td>0</td>\n",
              "      <td>0</td>\n",
              "      <td>0</td>\n",
              "      <td>0</td>\n",
              "      <td>0</td>\n",
              "      <td>0</td>\n",
              "      <td>0</td>\n",
              "      <td>0</td>\n",
              "    </tr>\n",
              "    <tr>\n",
              "      <th>...</th>\n",
              "      <td>...</td>\n",
              "      <td>...</td>\n",
              "      <td>...</td>\n",
              "      <td>...</td>\n",
              "      <td>...</td>\n",
              "      <td>...</td>\n",
              "      <td>...</td>\n",
              "      <td>...</td>\n",
              "      <td>...</td>\n",
              "      <td>...</td>\n",
              "      <td>...</td>\n",
              "      <td>...</td>\n",
              "      <td>...</td>\n",
              "      <td>...</td>\n",
              "      <td>...</td>\n",
              "      <td>...</td>\n",
              "      <td>...</td>\n",
              "      <td>...</td>\n",
              "      <td>...</td>\n",
              "      <td>...</td>\n",
              "      <td>...</td>\n",
              "      <td>...</td>\n",
              "      <td>...</td>\n",
              "      <td>...</td>\n",
              "      <td>...</td>\n",
              "      <td>...</td>\n",
              "      <td>...</td>\n",
              "      <td>...</td>\n",
              "      <td>...</td>\n",
              "      <td>...</td>\n",
              "    </tr>\n",
              "    <tr>\n",
              "      <th>509231</th>\n",
              "      <td>0</td>\n",
              "      <td>0</td>\n",
              "      <td>0</td>\n",
              "      <td>0</td>\n",
              "      <td>0</td>\n",
              "      <td>0</td>\n",
              "      <td>0</td>\n",
              "      <td>0</td>\n",
              "      <td>0</td>\n",
              "      <td>0</td>\n",
              "      <td>0</td>\n",
              "      <td>0</td>\n",
              "      <td>0</td>\n",
              "      <td>0</td>\n",
              "      <td>0</td>\n",
              "      <td>0</td>\n",
              "      <td>0</td>\n",
              "      <td>0</td>\n",
              "      <td>0</td>\n",
              "      <td>0</td>\n",
              "      <td>0</td>\n",
              "      <td>0</td>\n",
              "      <td>0</td>\n",
              "      <td>0</td>\n",
              "      <td>0</td>\n",
              "      <td>0</td>\n",
              "      <td>0</td>\n",
              "      <td>0</td>\n",
              "      <td>0</td>\n",
              "      <td>0</td>\n",
              "    </tr>\n",
              "    <tr>\n",
              "      <th>509232</th>\n",
              "      <td>0</td>\n",
              "      <td>0</td>\n",
              "      <td>0</td>\n",
              "      <td>0</td>\n",
              "      <td>0</td>\n",
              "      <td>0</td>\n",
              "      <td>0</td>\n",
              "      <td>0</td>\n",
              "      <td>0</td>\n",
              "      <td>0</td>\n",
              "      <td>0</td>\n",
              "      <td>0</td>\n",
              "      <td>0</td>\n",
              "      <td>0</td>\n",
              "      <td>1</td>\n",
              "      <td>0</td>\n",
              "      <td>0</td>\n",
              "      <td>0</td>\n",
              "      <td>0</td>\n",
              "      <td>0</td>\n",
              "      <td>0</td>\n",
              "      <td>0</td>\n",
              "      <td>0</td>\n",
              "      <td>0</td>\n",
              "      <td>0</td>\n",
              "      <td>0</td>\n",
              "      <td>0</td>\n",
              "      <td>0</td>\n",
              "      <td>0</td>\n",
              "      <td>0</td>\n",
              "    </tr>\n",
              "    <tr>\n",
              "      <th>509233</th>\n",
              "      <td>0</td>\n",
              "      <td>0</td>\n",
              "      <td>0</td>\n",
              "      <td>0</td>\n",
              "      <td>0</td>\n",
              "      <td>0</td>\n",
              "      <td>0</td>\n",
              "      <td>0</td>\n",
              "      <td>0</td>\n",
              "      <td>0</td>\n",
              "      <td>0</td>\n",
              "      <td>0</td>\n",
              "      <td>0</td>\n",
              "      <td>0</td>\n",
              "      <td>0</td>\n",
              "      <td>0</td>\n",
              "      <td>0</td>\n",
              "      <td>0</td>\n",
              "      <td>0</td>\n",
              "      <td>0</td>\n",
              "      <td>0</td>\n",
              "      <td>0</td>\n",
              "      <td>0</td>\n",
              "      <td>0</td>\n",
              "      <td>0</td>\n",
              "      <td>0</td>\n",
              "      <td>0</td>\n",
              "      <td>0</td>\n",
              "      <td>0</td>\n",
              "      <td>0</td>\n",
              "    </tr>\n",
              "    <tr>\n",
              "      <th>509234</th>\n",
              "      <td>0</td>\n",
              "      <td>0</td>\n",
              "      <td>0</td>\n",
              "      <td>0</td>\n",
              "      <td>0</td>\n",
              "      <td>0</td>\n",
              "      <td>0</td>\n",
              "      <td>0</td>\n",
              "      <td>0</td>\n",
              "      <td>0</td>\n",
              "      <td>0</td>\n",
              "      <td>0</td>\n",
              "      <td>0</td>\n",
              "      <td>0</td>\n",
              "      <td>0</td>\n",
              "      <td>0</td>\n",
              "      <td>0</td>\n",
              "      <td>0</td>\n",
              "      <td>0</td>\n",
              "      <td>0</td>\n",
              "      <td>0</td>\n",
              "      <td>0</td>\n",
              "      <td>0</td>\n",
              "      <td>0</td>\n",
              "      <td>0</td>\n",
              "      <td>0</td>\n",
              "      <td>0</td>\n",
              "      <td>0</td>\n",
              "      <td>0</td>\n",
              "      <td>0</td>\n",
              "    </tr>\n",
              "    <tr>\n",
              "      <th>509235</th>\n",
              "      <td>0</td>\n",
              "      <td>0</td>\n",
              "      <td>0</td>\n",
              "      <td>0</td>\n",
              "      <td>0</td>\n",
              "      <td>0</td>\n",
              "      <td>1</td>\n",
              "      <td>0</td>\n",
              "      <td>0</td>\n",
              "      <td>0</td>\n",
              "      <td>0</td>\n",
              "      <td>0</td>\n",
              "      <td>0</td>\n",
              "      <td>0</td>\n",
              "      <td>0</td>\n",
              "      <td>1</td>\n",
              "      <td>0</td>\n",
              "      <td>0</td>\n",
              "      <td>0</td>\n",
              "      <td>0</td>\n",
              "      <td>0</td>\n",
              "      <td>0</td>\n",
              "      <td>0</td>\n",
              "      <td>0</td>\n",
              "      <td>0</td>\n",
              "      <td>0</td>\n",
              "      <td>0</td>\n",
              "      <td>0</td>\n",
              "      <td>0</td>\n",
              "      <td>0</td>\n",
              "    </tr>\n",
              "  </tbody>\n",
              "</table>\n",
              "<p>509236 rows × 30 columns</p>\n",
              "</div>"
            ],
            "text/plain": [
              "        000  attack  china  government  india  ...  uk  ukraine  war  world  year\n",
              "0         0       0      0           0      0  ...   0        0    0      0     0\n",
              "1         0       0      0           0      0  ...   0        0    0      0     0\n",
              "2         0       0      0           0      0  ...   0        0    0      0     0\n",
              "3         0       0      0           0      0  ...   0        0    0      0     0\n",
              "4         0       0      0           0      0  ...   0        0    0      0     0\n",
              "...     ...     ...    ...         ...    ...  ...  ..      ...  ...    ...   ...\n",
              "509231    0       0      0           0      0  ...   0        0    0      0     0\n",
              "509232    0       0      0           0      0  ...   0        0    0      0     0\n",
              "509233    0       0      0           0      0  ...   0        0    0      0     0\n",
              "509234    0       0      0           0      0  ...   0        0    0      0     0\n",
              "509235    0       0      0           0      0  ...   0        0    0      0     0\n",
              "\n",
              "[509236 rows x 30 columns]"
            ]
          },
          "metadata": {
            "tags": []
          },
          "execution_count": 133
        }
      ]
    },
    {
      "cell_type": "code",
      "metadata": {
        "id": "bS1bHkzKFuB4"
      },
      "source": [
        "tf_vectorizer = CountVectorizer(max_features=20,\n",
        "                                ngram_range=(1,3), \n",
        "                                stop_words='english' )\n",
        "# apply the vectorizer to the \"text\" data\n",
        "tf = tf_vectorizer.fit_transform(text[:40000])\n",
        "full_matrix = pd.DataFrame(tf.todense(), columns=tf_vectorizer.get_feature_names())"
      ],
      "execution_count": null,
      "outputs": []
    },
    {
      "cell_type": "markdown",
      "metadata": {
        "id": "2dMVesI6OScN"
      },
      "source": [
        "Although I was thinking maybe I could build a classifier to predict which category the title would belong to, I realized there was only one category: 'worldnews' so this wouldn't work."
      ]
    },
    {
      "cell_type": "code",
      "metadata": {
        "id": "aj5njW7RUHhp"
      },
      "source": [
        ""
      ],
      "execution_count": null,
      "outputs": []
    }
  ]
}